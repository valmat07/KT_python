{
 "cells": [
  {
   "cell_type": "code",
   "execution_count": 6,
   "metadata": {},
   "outputs": [],
   "source": [
    "import numpy as np\n",
    "import matplotlib.pyplot as plt\n",
    "from sympy.solvers import solve\n",
    "from sympy import Symbol\n",
    "import sympy as sym"
   ]
  },
  {
   "cell_type": "code",
   "execution_count": 106,
   "metadata": {},
   "outputs": [],
   "source": [
    "x = Symbol('x')\n",
    "y = Symbol('y')\n",
    "k1 = Symbol('k1')\n",
    "k1_inv = Symbol('k1_inv')\n",
    "k2 = Symbol('k2')\n",
    "k2_inv = Symbol('k2_inv')\n",
    "k3 = Symbol('k3')\n",
    "k3_inv = Symbol('k3_inv')\n",
    "alpha = Symbol('alpha')\n",
    "\n",
    "f1 = k1 * (1 - x - y) - k1_inv * x - k2 * x * (1 - x - y) ** 2\n",
    "f2 = k3 * (1 - x - y)  - k3_inv * y\n",
    "sol = solve((f1, f2), (k1, y))\n",
    "k_expr = sol[0][0]\n",
    "y_expr = sol[0][1]"
   ]
  },
  {
   "cell_type": "code",
   "execution_count": 107,
   "metadata": {},
   "outputs": [
    {
     "data": {
      "text/plain": [
       "[(-x*(k1_inv*k3**2 + 2*k1_inv*k3*k3_inv + k1_inv*k3_inv**2 + k2*k3_inv**2*x**2 - 2*k2*k3_inv**2*x + k2*k3_inv**2)/(k3_inv*(k3 + k3_inv)*(x - 1)),\n",
       "  -k3*(x - 1)/(k3 + k3_inv))]"
      ]
     },
     "execution_count": 107,
     "metadata": {},
     "output_type": "execute_result"
    }
   ],
   "source": [
    "sol"
   ]
  },
  {
   "cell_type": "code",
   "execution_count": 8,
   "metadata": {},
   "outputs": [],
   "source": [
    "a11 = sym.diff(f1, x)\n",
    "a12 = sym.diff(f1, y)\n",
    "a21 = sym.diff(f2, x)\n",
    "a22 = sym.diff(f2, y)\n",
    "\n",
    "k1_inv_expr_mult = solve(((a11 + a22).subs({k1 : k_expr})).subs({y : y_expr}), k1_inv)[0]\n",
    "k1_inv_expr_neutral = solve(((a11 * a22 - a12 * a21).subs({k1 : k_expr})).subs({y : y_expr}), k1_inv)[0]"
   ]
  },
  {
   "cell_type": "code",
   "execution_count": 88,
   "metadata": {},
   "outputs": [
    {
     "data": {
      "text/latex": [
       "$\\displaystyle - \\frac{x \\left(k_{1 inv} k_{3}^{2} + 2 k_{1 inv} k_{3} k_{3 inv} + k_{1 inv} k_{3 inv}^{2} + k_{2} k_{3 inv}^{2} x^{2} - 2 k_{2} k_{3 inv}^{2} x + k_{2} k_{3 inv}^{2}\\right)}{k_{3 inv} \\left(k_{3} + k_{3 inv}\\right) \\left(x - 1\\right)}$"
      ],
      "text/plain": [
       "-x*(k1_inv*k3**2 + 2*k1_inv*k3*k3_inv + k1_inv*k3_inv**2 + k2*k3_inv**2*x**2 - 2*k2*k3_inv**2*x + k2*k3_inv**2)/(k3_inv*(k3 + k3_inv)*(x - 1))"
      ]
     },
     "execution_count": 88,
     "metadata": {},
     "output_type": "execute_result"
    }
   ],
   "source": [
    "k_expr"
   ]
  },
  {
   "cell_type": "code",
   "execution_count": 9,
   "metadata": {},
   "outputs": [],
   "source": [
    "# alpha_val = 18\n",
    "# k1_val = 0.012\n",
    "k1_inv_val = 0.005\n",
    "k2_val = 2\n",
    "k3_val = 0.0032\n",
    "k3_inv_val = 0.003"
   ]
  },
  {
   "cell_type": "code",
   "execution_count": 37,
   "metadata": {},
   "outputs": [
    {
     "data": {
      "text/latex": [
       "$\\displaystyle - \\frac{k_{3} \\left(x - 1\\right)}{k_{3} + k_{3 inv}}$"
      ],
      "text/plain": [
       "-k3*(x - 1)/(k3 + k3_inv)"
      ]
     },
     "execution_count": 37,
     "metadata": {},
     "output_type": "execute_result"
    }
   ],
   "source": [
    "y_expr"
   ]
  },
  {
   "cell_type": "code",
   "execution_count": 38,
   "metadata": {},
   "outputs": [],
   "source": [
    "x_val = np.linspace(0.01, 0.987, 1000)\n",
    "y_val = np.zeros(len(x_val))\n",
    "k1_val = np.zeros(len(x_val))\n",
    "trace = np.zeros(len(x_val))\n",
    "det = np.zeros(len(x_val))\n",
    "di = np.zeros(len(x_val))\n",
    "x_sn, y_sn, k2_sn = [], [], []\n",
    "x_det, y_det, k2_det = [], [], []\n",
    "x_di, y_di, k2_di = [], [], []\n",
    "for i in range(len(x_val)):\n",
    "    y_val[i] = float(y_expr.subs({k3: k3_val, k3_inv:k3_inv_val, x: float(x_val[i])})) \n",
    "    k1_val[i] = float(k_expr.subs({k1: k1_val[i], k1_inv: k1_inv_val, k2: k2_val, k3: k3_val,k3_inv:k3_inv_val, x: float(x_val[i]), y: float(y_val[i])}))\n",
    "    \n",
    "    a11_val = float(a11.subs({k1: k1_val[i], k1_inv: k1_inv_val, k2: k2_val, k3: k3_val, x: float(x_val[i]),k3_inv:k3_inv_val, y: float(y_val[i])}))\n",
    "    a22_val = float(a22.subs({k1: k1_val[i], k1_inv: k1_inv_val, k2: k2_val, k3: k3_val, x: float(x_val[i]),k3_inv:k3_inv_val, y: float(y_val[i])}))\n",
    "    a12_val = float(a12.subs({k1: k1_val[i], k1_inv: k1_inv_val, k2: k2_val, k3: k3_val, x: float(x_val[i]),k3_inv:k3_inv_val, y: float(y_val[i])}))\n",
    "    a21_val = float(a21.subs({k1: k1_val[i], k1_inv: k1_inv_val, k2: k2_val, k3: k3_val, x: float(x_val[i]),k3_inv:k3_inv_val, y: float(y_val[i])}))\n",
    "    trace[i] = a11_val + a22_val\n",
    "    det[i] = a11_val * a22_val - a12_val * a21_val\n",
    "    di[i] = trace[i] ** 2 - 4 * det[i]\n",
    "    if i != 0:\n",
    "        if trace[i] * trace[i - 1] <= 0:\n",
    "            x_sn.append(x_val[i])\n",
    "            y_sn.append(y_val[i])\n",
    "            k2_sn.append(k1_val[i])\n",
    "        if det[i] * det[i - 1] <= 0:\n",
    "            x_det.append(x_val[i])\n",
    "            y_det.append(y_val[i])\n",
    "            k2_det.append(k1_val[i])\n",
    "        if di[i] * di[i - 1] <= 0:\n",
    "            x_di.append(x_val[i])\n",
    "            y_di.append(y_val[i])\n",
    "            k2_di.append(k1_val[i])\n"
   ]
  },
  {
   "cell_type": "code",
   "execution_count": 41,
   "metadata": {},
   "outputs": [
    {
     "data": {
      "text/plain": [
       "[<matplotlib.lines.Line2D at 0x18a7232bf70>]"
      ]
     },
     "execution_count": 41,
     "metadata": {},
     "output_type": "execute_result"
    },
    {
     "data": {
      "image/png": "[encoded data removed]",
      "text/plain": [
       "<Figure size 432x288 with 1 Axes>"
      ]
     },
     "metadata": {
      "needs_background": "light"
     },
     "output_type": "display_data"
    }
   ],
   "source": [
    "plt.plot(k1_val, y_val)\n",
    "plt.plot(k1_val, x_val)\n",
    "\n",
    "plt.plot(k2_det, y_det, 'go')\n",
    "plt.plot(k2_det, x_det, 'ro')\n"
   ]
  },
  {
   "cell_type": "code",
   "execution_count": 30,
   "metadata": {},
   "outputs": [
    {
     "data": {
      "text/latex": [
       "$\\displaystyle \\frac{k_{3 inv} \\left(k_{2} k_{3 inv}^{2} x \\left(x - 1\\right)^{2} - k_{2} k_{3 inv}^{2} \\left(x - 1\\right)^{2} + k_{2} k_{3 inv} x^{3} \\left(k_{3} + k_{3 inv}\\right) - 2 k_{2} k_{3 inv} x^{2} \\left(k_{3} + k_{3 inv}\\right) + k_{2} k_{3 inv} x \\left(k_{3} + k_{3 inv}\\right) + k_{3} x \\left(k_{3} + k_{3 inv}\\right)^{2} - k_{3} \\left(k_{3} + k_{3 inv}\\right)^{2} + k_{3 inv} x \\left(k_{3} + k_{3 inv}\\right)^{2} - k_{3 inv} \\left(k_{3} + k_{3 inv}\\right)^{2}\\right)}{\\left(k_{3} + k_{3 inv}\\right) \\left(k_{3}^{2} x + 2 k_{3} k_{3 inv} x + k_{3 inv}^{2} x - k_{3 inv} x \\left(k_{3} + k_{3 inv}\\right) + k_{3 inv} \\left(k_{3} + k_{3 inv}\\right)\\right)}$"
      ],
      "text/plain": [
       "k3_inv*(k2*k3_inv**2*x*(x - 1)**2 - k2*k3_inv**2*(x - 1)**2 + k2*k3_inv*x**3*(k3 + k3_inv) - 2*k2*k3_inv*x**2*(k3 + k3_inv) + k2*k3_inv*x*(k3 + k3_inv) + k3*x*(k3 + k3_inv)**2 - k3*(k3 + k3_inv)**2 + k3_inv*x*(k3 + k3_inv)**2 - k3_inv*(k3 + k3_inv)**2)/((k3 + k3_inv)*(k3**2*x + 2*k3*k3_inv*x + k3_inv**2*x - k3_inv*x*(k3 + k3_inv) + k3_inv*(k3 + k3_inv)))"
      ]
     },
     "execution_count": 30,
     "metadata": {},
     "output_type": "execute_result"
    }
   ],
   "source": [
    "k1_inv_expr_mult"
   ]
  },
  {
   "cell_type": "code",
   "execution_count": 43,
   "metadata": {},
   "outputs": [
    {
     "data": {
      "text/latex": [
       "$\\displaystyle - \\frac{x \\left(k_{1 inv} k_{3}^{2} + 2 k_{1 inv} k_{3} k_{3 inv} + k_{1 inv} k_{3 inv}^{2} + k_{2} k_{3 inv}^{2} x^{2} - 2 k_{2} k_{3 inv}^{2} x + k_{2} k_{3 inv}^{2}\\right)}{k_{3 inv} \\left(k_{3} + k_{3 inv}\\right) \\left(x - 1\\right)}$"
      ],
      "text/plain": [
       "-x*(k1_inv*k3**2 + 2*k1_inv*k3*k3_inv + k1_inv*k3_inv**2 + k2*k3_inv**2*x**2 - 2*k2*k3_inv**2*x + k2*k3_inv**2)/(k3_inv*(k3 + k3_inv)*(x - 1))"
      ]
     },
     "execution_count": 43,
     "metadata": {},
     "output_type": "execute_result"
    }
   ],
   "source": [
    "k_expr"
   ]
  },
  {
   "cell_type": "code",
   "execution_count": 44,
   "metadata": {},
   "outputs": [],
   "source": [
    "x_val = np.linspace(0.01, 0.987, 1000)\n",
    "y_val = np.zeros(len(x_val))\n",
    "k1_val_fold = np.zeros(len(x_val))\n",
    "k1_val_inv_fold = np.zeros(len(x_val))\n",
    "for i in range(len(x_val)):\n",
    "    k1_val_inv_fold[i] = float(k1_inv_expr_mult.subs({k3_inv: k3_inv_val, k2:k2_val, k3: k3_val, x: float(x_val[i])}))\n",
    "    y_val[i] = float(y_expr.subs({k3: k3_val, k3_inv:k3_inv_val, x: float(x_val[i])}))\n",
    "    k1_val_fold[i] = float(k_expr.subs({k1_inv: k1_val_inv_fold[i], k2: k2_val, k3: k3_val, k3_inv:k3_inv_val, x: float(x_val[i])}))\n",
    "    "
   ]
  },
  {
   "cell_type": "code",
   "execution_count": 108,
   "metadata": {},
   "outputs": [],
   "source": [
    "x_val = np.linspace(0.01, 0.987, 1000)\n",
    "y_val = np.zeros(len(x_val))\n",
    "k1_val_neutral = np.zeros(len(x_val))\n",
    "k1_val_inv_neutral = np.zeros(len(x_val))\n",
    "delt = k3_inv_val / (k3_inv_val + k3_val)\n",
    "for i in range(len(x_val)):\n",
    "        y_val[i] = (1 - x_val[i]) * (k3_val / (k3_val + k3_inv_val)) # float(y_expr.subs({k3: k3_val, k3_inv:k3_inv_val, x: float(x_val[i])}))\n",
    "        k1_val_inv_neutral[i] = ((x_val[i] * delt  - (1 - x_val[i] - y_val[i]) ) * k2_val * (1 - x_val[i] - y_val[i]) ** 2) / (delt * x_val[i] + (1 - x_val[i] - y_val[i]))#(float(k1_inv_expr_neutral.subs({k3_inv: k3_inv_val, k2:k2_val, k3: k3_val, x: float(x_val[i])})))\n",
    "        # k1_val_neutral[i] =  (k1_val_inv_neutral[i] * x_val[i] + k2_val * x_val[i] * (1 - x_val[i] - y_val[i]) ** 2) / (1 - x_val[i] - y_val[i])# \n",
    "        k1_val_neutral[i] = float(k_expr.subs({k1_inv: k1_val_inv_neutral[i], k2: k2_val, k3: k3_val, k3_inv:k3_inv_val, x: float(x_val[i]), y: float(y_val[i])}))\n"
   ]
  },
  {
   "cell_type": "code",
   "execution_count": 109,
   "metadata": {},
   "outputs": [
    {
     "data": {
      "text/plain": [
       "(0.0, 0.05)"
      ]
     },
     "execution_count": 109,
     "metadata": {},
     "output_type": "execute_result"
    },
    {
     "data": {
      "image/png": "[encoded data removed]",
      "text/plain": [
       "<Figure size 720x720 with 1 Axes>"
      ]
     },
     "metadata": {
      "needs_background": "light"
     },
     "output_type": "display_data"
    }
   ],
   "source": [
    "fig = plt.figure(figsize=(10,10))\n",
    "plt.plot(k1_val_fold, k1_val_inv_fold, color='black', label='fold')\n",
    "\n",
    "plt.plot(k1_val_neutral, k1_val_inv_neutral, color='black', linestyle='--', label='neutral')\n",
    "#plt.legend()\n",
    "plt.xlim(left=0.1)\n",
    "plt.ylim([0.0, 0.05])\n",
    "#plt.ylim([-0.2, 0.5])\n",
    "#plt.plot(k1_val_fold, y_val, color='black', linestyle='--')"
   ]
  },
  {
   "cell_type": "code",
   "execution_count": 97,
   "metadata": {},
   "outputs": [
    {
     "data": {
      "text/plain": [
       "0.24209478"
      ]
     },
     "execution_count": 97,
     "metadata": {},
     "output_type": "execute_result"
    }
   ],
   "source": [
    "x_val[i] = 0.5\n",
    "y_val[i] = (1 - x_val[i]) * (k3_val / (k3_val + k3_inv_val))\n",
    "(k1_val_inv_neutral[i] * x_val[i] + k2_val * x_val[i] * (1 - x_val[i] - y_val[i]) ** 2) / (1 - x_val[i] - y_val[i])"
   ]
  },
  {
   "cell_type": "code",
   "execution_count": 102,
   "metadata": {},
   "outputs": [
    {
     "data": {
      "text/plain": [
       "0.006709677419354798"
      ]
     },
     "execution_count": 102,
     "metadata": {},
     "output_type": "execute_result"
    }
   ],
   "source": [
    "float(k_expr.subs({k1_inv: k1_val_inv_neutral[i], k2: k2_val, k3: k3_val, k3_inv:k3_inv_val, x: float(x_val[i])}))"
   ]
  },
  {
   "cell_type": "code",
   "execution_count": 103,
   "metadata": {},
   "outputs": [
    {
     "data": {
      "text/latex": [
       "$\\displaystyle - \\frac{k_{3} \\left(x - 1\\right)}{k_{3} + k_{3 inv}}$"
      ],
      "text/plain": [
       "-k3*(x - 1)/(k3 + k3_inv)"
      ]
     },
     "execution_count": 103,
     "metadata": {},
     "output_type": "execute_result"
    }
   ],
   "source": [
    "k_expr"
   ]
  },
  {
   "cell_type": "code",
   "execution_count": null,
   "metadata": {},
   "outputs": [],
   "source": []
  }
 ],
 "metadata": {
  "interpreter": {
   "hash": "9ab4654a017d900cafcbe7b466b3f1e9346ef8532fd31d14c8878bfa1cdc353a"
  },
  "kernelspec": {
   "display_name": "Python 3.9.7 64-bit (windows store)",
   "language": "python",
   "name": "python3"
  },
  "language_info": {
   "codemirror_mode": {
    "name": "ipython",
    "version": 3
   },
   "file_extension": ".py",
   "mimetype": "text/x-python",
   "name": "python",
   "nbconvert_exporter": "python",
   "pygments_lexer": "ipython3",
   "version": "3.8.8"
  },
  "orig_nbformat": 4
 },
 "nbformat": 4,
 "nbformat_minor": 2
}
